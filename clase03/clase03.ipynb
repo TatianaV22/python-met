{
 "cells": [
  {
   "cell_type": "markdown",
   "metadata": {},
   "source": [
    "# Palabras reservadas"
   ]
  },
  {
   "cell_type": "markdown",
   "metadata": {},
   "source": [
    "Existen ciertas palabras que tienen significado especial para el intérprete de Python. Estas no pueden utilizarse para ningún otro fin (como ser nombrar valores) excepto para el que han sido creadas. Estas son:"
   ]
  },
  {
   "cell_type": "markdown",
   "metadata": {},
   "source": [
    "* and.\n",
    "* as.\n",
    "* assert.\n",
    "* break.\n",
    "* class.\n",
    "* continue.\n",
    "* def.\n",
    "* del.\n",
    "* elif.\n",
    "* else.\n",
    "* except.\n",
    "* exec.\n",
    "* finally.\n",
    "* for.\n",
    "* from.\n",
    "* global.\n",
    "* if.\n",
    "* import.\n",
    "* in.\n",
    "* is.\n",
    "* lambda.\n",
    "* not.\n",
    "* or.\n",
    "* pass.\n",
    "* print.\n",
    "* raise.\n",
    "* return.\n",
    "* try.\n",
    "* while.\n",
    "* with.\n",
    "* yield."
   ]
  },
  {
   "cell_type": "markdown",
   "metadata": {},
   "source": [
    "# Reglas y convención de nombres"
   ]
  },
  {
   "cell_type": "markdown",
   "metadata": {},
   "source": [
    "Algunas reglas y convenciones de nombres para las variables y constantes:\n",
    "\n",
    "Nunca use símbolos especiales como !, @, #, $, %, etc.\n",
    "\n",
    "El primer carácter no puede ser un número o dígito.\n",
    "\n",
    "Las constantes son colocadas dentro de módulos Python y significa que no puede ser cambiadas.\n",
    "\n",
    "Los nombres de constante y variable debería tener la combinación de letras en minúsculas (de a a la z) o MAYÚSCULAS (de la A a la Z) o dígitos (del 0 al 9) o un underscore (_). Por ejemplo:\n",
    "\n",
    " * snake_case\n",
    " * MACRO_CASE\n",
    " * camelCase\n",
    " * CapWords\n",
    "\n",
    "Los nombres que comienzan con guión bajo (simple _ o doble __) se reservan para variables con significado especial\n",
    "\n",
    "No pueden usarse como identificadores, las palabras reservadas ."
   ]
  },
  {
   "cell_type": "markdown",
   "metadata": {},
   "source": [
    "# Sentencia del"
   ]
  },
  {
   "cell_type": "markdown",
   "metadata": {},
   "source": [
    "La sentencia **del** se define recursivamente muy similar a la forma en el cual se define la asignación. A continuación unos ejemplos donde se inicializan variables:"
   ]
  },
  {
   "cell_type": "code",
   "execution_count": 1,
   "metadata": {},
   "outputs": [],
   "source": [
    "cadena, numero, lista = \"Hola MET\", 123456, [7,8,9,0]"
   ]
  },
  {
   "cell_type": "code",
   "execution_count": 2,
   "metadata": {},
   "outputs": [],
   "source": [
    "tupla = (11, \"Chau MET\", True, None)"
   ]
  },
  {
   "cell_type": "code",
   "execution_count": 3,
   "metadata": {},
   "outputs": [],
   "source": [
    "diccionario = {\"nombre\":\"Rodrigo\",\"apellido\":\"Rodriguez\"}"
   ]
  },
  {
   "cell_type": "markdown",
   "metadata": {},
   "source": [
    "Luego de inicializar las variables del código anterior, usted puede usar la función vars() para obtener un diccionario conteniendo ámbito actual de las variables, ejecutando:"
   ]
  },
  {
   "cell_type": "code",
   "execution_count": 4,
   "metadata": {},
   "outputs": [
    {
     "data": {
      "text/plain": [
       "{'__name__': '__main__',\n",
       " '__doc__': 'Automatically created module for IPython interactive environment',\n",
       " '__package__': None,\n",
       " '__loader__': None,\n",
       " '__spec__': None,\n",
       " '__builtin__': <module 'builtins' (built-in)>,\n",
       " '__builtins__': <module 'builtins' (built-in)>,\n",
       " '_ih': ['',\n",
       "  'cadena, numero, lista = \"Hola MET\", 123456, [7,8,9,0]',\n",
       "  'tupla = (11, \"Chau MET\", True, None)',\n",
       "  'diccionario = {\"nombre\":\"Rodrigo\",\"apellido\":\"Rodriguez\"}',\n",
       "  'vars()'],\n",
       " '_oh': {},\n",
       " '_dh': ['/Users/andres/projects/python-met/clase03'],\n",
       " 'In': ['',\n",
       "  'cadena, numero, lista = \"Hola MET\", 123456, [7,8,9,0]',\n",
       "  'tupla = (11, \"Chau MET\", True, None)',\n",
       "  'diccionario = {\"nombre\":\"Rodrigo\",\"apellido\":\"Rodriguez\"}',\n",
       "  'vars()'],\n",
       " 'Out': {},\n",
       " 'get_ipython': <bound method InteractiveShell.get_ipython of <ipykernel.zmqshell.ZMQInteractiveShell object at 0x1114b09e8>>,\n",
       " 'exit': <IPython.core.autocall.ZMQExitAutocall at 0x11150cb38>,\n",
       " 'quit': <IPython.core.autocall.ZMQExitAutocall at 0x11150cb38>,\n",
       " '_': '',\n",
       " '__': '',\n",
       " '___': '',\n",
       " '_i': 'diccionario = {\"nombre\":\"Rodrigo\",\"apellido\":\"Rodriguez\"}',\n",
       " '_ii': 'tupla = (11, \"Chau MET\", True, None)',\n",
       " '_iii': 'cadena, numero, lista = \"Hola MET\", 123456, [7,8,9,0]',\n",
       " '_i1': 'cadena, numero, lista = \"Hola MET\", 123456, [7,8,9,0]',\n",
       " 'cadena': 'Hola MET',\n",
       " 'numero': 123456,\n",
       " 'lista': [7, 8, 9, 0],\n",
       " '_i2': 'tupla = (11, \"Chau MET\", True, None)',\n",
       " 'tupla': (11, 'Chau MET', True, None),\n",
       " '_i3': 'diccionario = {\"nombre\":\"Rodrigo\",\"apellido\":\"Rodriguez\"}',\n",
       " 'diccionario': {'nombre': 'Rodrigo', 'apellido': 'Rodriguez'},\n",
       " '_i4': 'vars()'}"
      ]
     },
     "execution_count": 4,
     "metadata": {},
     "output_type": "execute_result"
    }
   ],
   "source": [
    "vars()"
   ]
  },
  {
   "cell_type": "markdown",
   "metadata": {},
   "source": [
    "Si desea eliminar la referencia a la variable cadena, ejecuta:"
   ]
  },
  {
   "cell_type": "code",
   "execution_count": 5,
   "metadata": {},
   "outputs": [],
   "source": [
    "del cadena"
   ]
  },
  {
   "cell_type": "code",
   "execution_count": 6,
   "metadata": {},
   "outputs": [
    {
     "data": {
      "text/plain": [
       "{'__name__': '__main__',\n",
       " '__doc__': 'Automatically created module for IPython interactive environment',\n",
       " '__package__': None,\n",
       " '__loader__': None,\n",
       " '__spec__': None,\n",
       " '__builtin__': <module 'builtins' (built-in)>,\n",
       " '__builtins__': <module 'builtins' (built-in)>,\n",
       " '_ih': ['',\n",
       "  'cadena, numero, lista = \"Hola MET\", 123456, [7,8,9,0]',\n",
       "  'tupla = (11, \"Chau MET\", True, None)',\n",
       "  'diccionario = {\"nombre\":\"Rodrigo\",\"apellido\":\"Rodriguez\"}',\n",
       "  'vars()',\n",
       "  'del cadena',\n",
       "  'vars()'],\n",
       " '_oh': {4: {...}},\n",
       " '_dh': ['/Users/andres/projects/python-met/clase03'],\n",
       " 'In': ['',\n",
       "  'cadena, numero, lista = \"Hola MET\", 123456, [7,8,9,0]',\n",
       "  'tupla = (11, \"Chau MET\", True, None)',\n",
       "  'diccionario = {\"nombre\":\"Rodrigo\",\"apellido\":\"Rodriguez\"}',\n",
       "  'vars()',\n",
       "  'del cadena',\n",
       "  'vars()'],\n",
       " 'Out': {4: {...}},\n",
       " 'get_ipython': <bound method InteractiveShell.get_ipython of <ipykernel.zmqshell.ZMQInteractiveShell object at 0x1114b09e8>>,\n",
       " 'exit': <IPython.core.autocall.ZMQExitAutocall at 0x11150cb38>,\n",
       " 'quit': <IPython.core.autocall.ZMQExitAutocall at 0x11150cb38>,\n",
       " '_': {...},\n",
       " '__': '',\n",
       " '___': '',\n",
       " '_i': 'del cadena',\n",
       " '_ii': 'vars()',\n",
       " '_iii': 'diccionario = {\"nombre\":\"Rodrigo\",\"apellido\":\"Rodriguez\"}',\n",
       " '_i1': 'cadena, numero, lista = \"Hola MET\", 123456, [7,8,9,0]',\n",
       " 'numero': 123456,\n",
       " 'lista': [7, 8, 9, 0],\n",
       " '_i2': 'tupla = (11, \"Chau MET\", True, None)',\n",
       " 'tupla': (11, 'Chau MET', True, None),\n",
       " '_i3': 'diccionario = {\"nombre\":\"Rodrigo\",\"apellido\":\"Rodriguez\"}',\n",
       " 'diccionario': {'nombre': 'Rodrigo', 'apellido': 'Rodriguez'},\n",
       " '_i4': 'vars()',\n",
       " '_4': {...},\n",
       " '_i5': 'del cadena',\n",
       " '_i6': 'vars()'}"
      ]
     },
     "execution_count": 6,
     "metadata": {},
     "output_type": "execute_result"
    }
   ],
   "source": [
    "vars()"
   ]
  },
  {
   "cell_type": "markdown",
   "metadata": {},
   "source": [
    "Como pudo ver en el ejemplo anterior que elimino la referencia a la variable cadena, incluso al volver a la función vars() ya no sale en el ámbito de variables disponibles."
   ]
  },
  {
   "cell_type": "markdown",
   "metadata": {},
   "source": [
    "La eliminación de una lista de objetivos elimina recursivamente cada objetivo, de izquierda a derecha."
   ]
  },
  {
   "cell_type": "code",
   "execution_count": 7,
   "metadata": {},
   "outputs": [],
   "source": [
    "del numero, lista, tupla, diccionario"
   ]
  },
  {
   "cell_type": "code",
   "execution_count": 8,
   "metadata": {},
   "outputs": [
    {
     "data": {
      "text/plain": [
       "{'__name__': '__main__',\n",
       " '__doc__': 'Automatically created module for IPython interactive environment',\n",
       " '__package__': None,\n",
       " '__loader__': None,\n",
       " '__spec__': None,\n",
       " '__builtin__': <module 'builtins' (built-in)>,\n",
       " '__builtins__': <module 'builtins' (built-in)>,\n",
       " '_ih': ['',\n",
       "  'cadena, numero, lista = \"Hola MET\", 123456, [7,8,9,0]',\n",
       "  'tupla = (11, \"Chau MET\", True, None)',\n",
       "  'diccionario = {\"nombre\":\"Rodrigo\",\"apellido\":\"Rodriguez\"}',\n",
       "  'vars()',\n",
       "  'del cadena',\n",
       "  'vars()',\n",
       "  'del numero, lista, tupla, diccionario',\n",
       "  'vars()'],\n",
       " '_oh': {4: {...}, 6: {...}},\n",
       " '_dh': ['/Users/andres/projects/python-met/clase03'],\n",
       " 'In': ['',\n",
       "  'cadena, numero, lista = \"Hola MET\", 123456, [7,8,9,0]',\n",
       "  'tupla = (11, \"Chau MET\", True, None)',\n",
       "  'diccionario = {\"nombre\":\"Rodrigo\",\"apellido\":\"Rodriguez\"}',\n",
       "  'vars()',\n",
       "  'del cadena',\n",
       "  'vars()',\n",
       "  'del numero, lista, tupla, diccionario',\n",
       "  'vars()'],\n",
       " 'Out': {4: {...}, 6: {...}},\n",
       " 'get_ipython': <bound method InteractiveShell.get_ipython of <ipykernel.zmqshell.ZMQInteractiveShell object at 0x1114b09e8>>,\n",
       " 'exit': <IPython.core.autocall.ZMQExitAutocall at 0x11150cb38>,\n",
       " 'quit': <IPython.core.autocall.ZMQExitAutocall at 0x11150cb38>,\n",
       " '_': {...},\n",
       " '__': {...},\n",
       " '___': '',\n",
       " '_i': 'del numero, lista, tupla, diccionario',\n",
       " '_ii': 'vars()',\n",
       " '_iii': 'del cadena',\n",
       " '_i1': 'cadena, numero, lista = \"Hola MET\", 123456, [7,8,9,0]',\n",
       " '_i2': 'tupla = (11, \"Chau MET\", True, None)',\n",
       " '_i3': 'diccionario = {\"nombre\":\"Rodrigo\",\"apellido\":\"Rodriguez\"}',\n",
       " '_i4': 'vars()',\n",
       " '_4': {...},\n",
       " '_i5': 'del cadena',\n",
       " '_i6': 'vars()',\n",
       " '_6': {...},\n",
       " '_i7': 'del numero, lista, tupla, diccionario',\n",
       " '_i8': 'vars()'}"
      ]
     },
     "execution_count": 8,
     "metadata": {},
     "output_type": "execute_result"
    }
   ],
   "source": [
    "vars()"
   ]
  },
  {
   "cell_type": "markdown",
   "metadata": {},
   "source": [
    "# Sentencia global"
   ]
  },
  {
   "cell_type": "markdown",
   "metadata": {},
   "source": [
    "La sentencia global es una declaración que se mantiene para todo el bloque de código actual. Eso significa que los identificadores listados son interpretados como globales. Eso podría ser imposible asignar a una variable global sin la sentencia global, aunque las variables libres pueden referirse a globales sin ser declaradas globales."
   ]
  },
  {
   "cell_type": "code",
   "execution_count": 9,
   "metadata": {},
   "outputs": [],
   "source": [
    "variable1 = \"variable original\""
   ]
  },
  {
   "cell_type": "code",
   "execution_count": 10,
   "metadata": {},
   "outputs": [],
   "source": [
    "def modificar_variable_global_1():\n",
    "    variable1 = \"variable global modificada\""
   ]
  },
  {
   "cell_type": "code",
   "execution_count": 11,
   "metadata": {},
   "outputs": [],
   "source": [
    "modificar_variable_global_1()"
   ]
  },
  {
   "cell_type": "code",
   "execution_count": null,
   "metadata": {},
   "outputs": [],
   "source": [
    "# que valor tiene variable1????"
   ]
  },
  {
   "cell_type": "markdown",
   "metadata": {},
   "source": [
    "Probemos usando global"
   ]
  },
  {
   "cell_type": "code",
   "execution_count": 12,
   "metadata": {},
   "outputs": [],
   "source": [
    "def modificar_variable_global_2():\n",
    "    global variable1\n",
    "    variable1 = \"variable global modificada\""
   ]
  },
  {
   "cell_type": "code",
   "execution_count": 13,
   "metadata": {},
   "outputs": [],
   "source": [
    "modificar_variable_global_2()"
   ]
  },
  {
   "cell_type": "code",
   "execution_count": 16,
   "metadata": {},
   "outputs": [],
   "source": [
    "# ahora si funciona"
   ]
  },
  {
   "cell_type": "markdown",
   "metadata": {},
   "source": [
    "# Operadores de asignaciones"
   ]
  },
  {
   "cell_type": "markdown",
   "metadata": {},
   "source": [
    "Los operadores de asignación se utilizan para\n",
    "\n",
    "Existe en Python todo un grupo de operadores los cuales le permiten básicamente asignar un valor a una variable, usando el operador “=”. Con estos operadores pueden aplicar la técnica denominada asignación aumentada."
   ]
  },
  {
   "cell_type": "markdown",
   "metadata": {},
   "source": [
    "# Operador ="
   ]
  },
  {
   "cell_type": "markdown",
   "metadata": {},
   "source": [
    "El operador igual a, (=), es el más simple de todos y asigna a la variable del lado izquierdo cualquier variable o resultado del lado derecho."
   ]
  },
  {
   "cell_type": "markdown",
   "metadata": {},
   "source": [
    "# Operador +="
   ]
  },
  {
   "cell_type": "markdown",
   "metadata": {},
   "source": [
    "El operador += suma a la variable del lado izquierdo el valor del lado derecho."
   ]
  },
  {
   "cell_type": "code",
   "execution_count": 17,
   "metadata": {},
   "outputs": [
    {
     "data": {
      "text/plain": [
       "15"
      ]
     },
     "execution_count": 17,
     "metadata": {},
     "output_type": "execute_result"
    }
   ],
   "source": [
    "r = 5; r += 10; r"
   ]
  },
  {
   "cell_type": "markdown",
   "metadata": {},
   "source": [
    "En el ejemplo anterior si la variable “r” es igual a 5 y r += 10, entonces la variable “r” sera igual a 15. Su equivalente seria el siguiente:"
   ]
  },
  {
   "cell_type": "code",
   "execution_count": 18,
   "metadata": {},
   "outputs": [
    {
     "data": {
      "text/plain": [
       "15"
      ]
     },
     "execution_count": 18,
     "metadata": {},
     "output_type": "execute_result"
    }
   ],
   "source": [
    "r = 5; r = r + 10; r"
   ]
  },
  {
   "cell_type": "markdown",
   "metadata": {},
   "source": [
    "# Operador -="
   ]
  },
  {
   "cell_type": "markdown",
   "metadata": {},
   "source": [
    "El operador -= resta a la variable del lado izquierdo el valor del lado derecho."
   ]
  },
  {
   "cell_type": "code",
   "execution_count": 19,
   "metadata": {},
   "outputs": [
    {
     "data": {
      "text/plain": [
       "-5"
      ]
     },
     "execution_count": 19,
     "metadata": {},
     "output_type": "execute_result"
    }
   ],
   "source": [
    "r = 5; r -= 10; r"
   ]
  },
  {
   "cell_type": "markdown",
   "metadata": {},
   "source": [
    "En el ejemplo anterior si la variable “r” es igual a 5 y r -= 10, entonces la variable “r” sera igual a -5. Su equivalente seria el siguiente:"
   ]
  },
  {
   "cell_type": "code",
   "execution_count": 20,
   "metadata": {},
   "outputs": [
    {
     "data": {
      "text/plain": [
       "-5"
      ]
     },
     "execution_count": 20,
     "metadata": {},
     "output_type": "execute_result"
    }
   ],
   "source": [
    "r = 5; r = r - 10; r"
   ]
  },
  {
   "cell_type": "markdown",
   "metadata": {},
   "source": [
    "#  Operador *="
   ]
  },
  {
   "cell_type": "markdown",
   "metadata": {},
   "source": [
    "El operador *= multiplica a la variable del lado izquierdo el valor del lado derecho."
   ]
  },
  {
   "cell_type": "code",
   "execution_count": 21,
   "metadata": {},
   "outputs": [
    {
     "data": {
      "text/plain": [
       "50"
      ]
     },
     "execution_count": 21,
     "metadata": {},
     "output_type": "execute_result"
    }
   ],
   "source": [
    "r = 5; r *= 10; r"
   ]
  },
  {
   "cell_type": "markdown",
   "metadata": {},
   "source": [
    "En el ejemplo anterior si la variable “r” es igual a 5 y r *= 10, entonces la variable “r” sera igual a 50. Su equivalente seria el siguiente:"
   ]
  },
  {
   "cell_type": "code",
   "execution_count": 22,
   "metadata": {},
   "outputs": [
    {
     "data": {
      "text/plain": [
       "50"
      ]
     },
     "execution_count": 22,
     "metadata": {},
     "output_type": "execute_result"
    }
   ],
   "source": [
    "r = 5; r = r * 10; r"
   ]
  },
  {
   "cell_type": "markdown",
   "metadata": {},
   "source": [
    "# Operador //="
   ]
  },
  {
   "cell_type": "markdown",
   "metadata": {},
   "source": [
    "El operador //= calcula la división entera a la variable del lado izquierdo el valor del lado derecho."
   ]
  },
  {
   "cell_type": "code",
   "execution_count": 26,
   "metadata": {
    "scrolled": true
   },
   "outputs": [
    {
     "data": {
      "text/plain": [
       "0"
      ]
     },
     "execution_count": 26,
     "metadata": {},
     "output_type": "execute_result"
    }
   ],
   "source": [
    "r = 5; r //= 10; r"
   ]
  },
  {
   "cell_type": "markdown",
   "metadata": {},
   "source": [
    "En el ejemplo anterior si la variable “r” es igual a 5 y r //= 10, entonces la variable “r” sera igual a 0. Su equivalente seria el siguiente:"
   ]
  },
  {
   "cell_type": "code",
   "execution_count": 27,
   "metadata": {},
   "outputs": [
    {
     "data": {
      "text/plain": [
       "0"
      ]
     },
     "execution_count": 27,
     "metadata": {},
     "output_type": "execute_result"
    }
   ],
   "source": [
    "r = 5; r = r // 10; r"
   ]
  },
  {
   "cell_type": "markdown",
   "metadata": {},
   "source": [
    "# Operador **="
   ]
  },
  {
   "cell_type": "markdown",
   "metadata": {},
   "source": [
    "El operador **= calcula el exponente a la variable del lado izquierdo el valor del lado derecho."
   ]
  },
  {
   "cell_type": "code",
   "execution_count": 28,
   "metadata": {
    "scrolled": true
   },
   "outputs": [
    {
     "data": {
      "text/plain": [
       "9765625"
      ]
     },
     "execution_count": 28,
     "metadata": {},
     "output_type": "execute_result"
    }
   ],
   "source": [
    "r = 5; r **= 10; r"
   ]
  },
  {
   "cell_type": "markdown",
   "metadata": {},
   "source": [
    "En el ejemplo anterior si la variable “r” es igual a 5 y r **= 10, entonces la variable “r” sera igual a 9765625. Su equivalente seria el siguiente:"
   ]
  },
  {
   "cell_type": "code",
   "execution_count": 29,
   "metadata": {},
   "outputs": [
    {
     "data": {
      "text/plain": [
       "9765625"
      ]
     },
     "execution_count": 29,
     "metadata": {},
     "output_type": "execute_result"
    }
   ],
   "source": [
    "r = 5; r = r ** 10; r"
   ]
  },
  {
   "cell_type": "markdown",
   "metadata": {},
   "source": [
    "# Operador /="
   ]
  },
  {
   "cell_type": "markdown",
   "metadata": {},
   "source": [
    "El operador /= divide a la variable del lado izquierdo el valor del lado derecho."
   ]
  },
  {
   "cell_type": "code",
   "execution_count": 31,
   "metadata": {},
   "outputs": [
    {
     "data": {
      "text/plain": [
       "0.5"
      ]
     },
     "execution_count": 31,
     "metadata": {},
     "output_type": "execute_result"
    }
   ],
   "source": [
    "r = 5; r /= 10; r"
   ]
  },
  {
   "cell_type": "markdown",
   "metadata": {},
   "source": [
    "En el ejemplo anterior si la variable “r” es igual a 5 y r /= 10, entonces la variable “r” sera igual a 0.5 . Su equivalente seria el siguiente:"
   ]
  },
  {
   "cell_type": "code",
   "execution_count": 32,
   "metadata": {},
   "outputs": [
    {
     "data": {
      "text/plain": [
       "0.5"
      ]
     },
     "execution_count": 32,
     "metadata": {},
     "output_type": "execute_result"
    }
   ],
   "source": [
    "r = 5; r = r / 10; r"
   ]
  },
  {
   "cell_type": "markdown",
   "metadata": {},
   "source": [
    "# Operador %="
   ]
  },
  {
   "cell_type": "markdown",
   "metadata": {},
   "source": [
    "El operador %= devuelve el resto de la división a la variable del lado izquierdo el valor del lado derecho."
   ]
  },
  {
   "cell_type": "code",
   "execution_count": 33,
   "metadata": {},
   "outputs": [
    {
     "data": {
      "text/plain": [
       "5"
      ]
     },
     "execution_count": 33,
     "metadata": {},
     "output_type": "execute_result"
    }
   ],
   "source": [
    "r = 5; r %= 10; r"
   ]
  },
  {
   "cell_type": "markdown",
   "metadata": {},
   "source": [
    "En el ejemplo anterior si la variable “r” es igual a 5 y r %= 10, entonces la variable “r” sera igual a 5. Su equivalente seria el siguiente:"
   ]
  },
  {
   "cell_type": "code",
   "execution_count": 34,
   "metadata": {},
   "outputs": [
    {
     "data": {
      "text/plain": [
       "5"
      ]
     },
     "execution_count": 34,
     "metadata": {},
     "output_type": "execute_result"
    }
   ],
   "source": [
    "r = 5; r = r % 10; r"
   ]
  },
  {
   "cell_type": "markdown",
   "metadata": {},
   "source": [
    "# Asignación aumentada"
   ]
  },
  {
   "cell_type": "markdown",
   "metadata": {},
   "source": [
    "Es frecuente que una variable tenga que ser definida de nuevo en función de sí misma. Normalmente usted escribir la siguiente sintaxis:"
   ]
  },
  {
   "cell_type": "code",
   "execution_count": 36,
   "metadata": {},
   "outputs": [],
   "source": [
    "contador = 1"
   ]
  },
  {
   "cell_type": "code",
   "execution_count": 37,
   "metadata": {},
   "outputs": [],
   "source": [
    "contador = contador + 1"
   ]
  },
  {
   "cell_type": "markdown",
   "metadata": {},
   "source": [
    "El código anterior, se puede abreviar a su equivalente, usando la asignación aumentada, de la siguiente manera:"
   ]
  },
  {
   "cell_type": "code",
   "execution_count": 39,
   "metadata": {},
   "outputs": [],
   "source": [
    "contador += 1"
   ]
  },
  {
   "cell_type": "markdown",
   "metadata": {},
   "source": [
    "El código anterior, no sólo es más corto de escribir, sino también más eficiente en tiempo de ejecución."
   ]
  }
 ],
 "metadata": {
  "kernelspec": {
   "display_name": "Python 3",
   "language": "python",
   "name": "python3"
  },
  "language_info": {
   "codemirror_mode": {
    "name": "ipython",
    "version": 3
   },
   "file_extension": ".py",
   "mimetype": "text/x-python",
   "name": "python",
   "nbconvert_exporter": "python",
   "pygments_lexer": "ipython3",
   "version": "3.7.3"
  }
 },
 "nbformat": 4,
 "nbformat_minor": 2
}
