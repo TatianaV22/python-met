{
 "cells": [
  {
   "cell_type": "markdown",
   "metadata": {},
   "source": [
    "# Programación Orientada a Objetos"
   ]
  },
  {
   "cell_type": "markdown",
   "metadata": {},
   "source": [
    "La Programación Orientada a Objetos (POO u OOP por sus siglas en inglés), es un paradigma de programación.\n",
    "\n",
    "#### Paradigma: teoría cuyo núcleo central suministra la base y modelo para resolver problemas\n",
    "\\\n",
    "Cómo tal, nos enseña un método -probado y estudiado- el cual se basa en las interacciones de objetos para resolver las necesidades de un sistema informático.\n",
    "\\\n",
    "Básicamente, este paradigma se compone de 6 elementos y 7 características que veremos a continuación."
   ]
  },
  {
   "cell_type": "markdown",
   "metadata": {},
   "source": [
    "### Elementos y Características de la POO"
   ]
  },
  {
   "cell_type": "markdown",
   "metadata": {},
   "source": [
    "Los elementos de la POO, pueden entenderse como los materiales que necesitamos para diseñar y programar un sistema, mientras que las características, podrían asumirse como las herramientas de las cuáles disponemos para construir el sistema con esos materiales.\n",
    "\n",
    "Entre los elementos principales de la POO, podremos encontrar a:"
   ]
  },
  {
   "cell_type": "markdown",
   "metadata": {},
   "source": [
    "##### Clases"
   ]
  },
  {
   "cell_type": "markdown",
   "metadata": {},
   "source": [
    "Las clases son los modelos sobre los cuáles se construirán nuestros objetos. \n",
    "\n",
    "En Python, una clase se define con la instrucción class seguida de un nombre genérico para el objeto."
   ]
  },
  {
   "cell_type": "code",
   "execution_count": 1,
   "metadata": {},
   "outputs": [],
   "source": [
    "class Auto:\n",
    "    pass\n",
    "\n",
    "class Casa:\n",
    "    pass\n",
    "\n",
    "class Animal:\n",
    "    pass\n",
    "\n",
    "class Persona:\n",
    "    pass"
   ]
  },
  {
   "cell_type": "markdown",
   "metadata": {},
   "source": [
    "**PEP 8**: El nombre de las clases se define en singular, utilizando CamelCase."
   ]
  },
  {
   "cell_type": "markdown",
   "metadata": {},
   "source": [
    "##### Propiedades"
   ]
  },
  {
   "cell_type": "markdown",
   "metadata": {},
   "source": [
    "Las propiedades, como hemos visto antes, son las características intrínsecas del objeto. Éstas, se representan a modo de variables, solo que técnicamente, pasan a denominarse propiedades:"
   ]
  },
  {
   "cell_type": "code",
   "execution_count": 2,
   "metadata": {},
   "outputs": [],
   "source": [
    "class Auto(): \n",
    "    color = \"\"\n",
    "    puertas = \"\" \n",
    "\n",
    "class Casa(): \n",
    "    color = \"\" \n",
    "    habitaciones = \"\" \n",
    "\n",
    "class Animal(): \n",
    "    patas = \"\" \n",
    "    habitat = \"\" \n",
    "\n",
    "\n",
    "class Persona(): \n",
    "    nombre = \"\" \n",
    "    apellido = \"\" \n",
    "    altura = \"\"\n",
    "    peso = \"\""
   ]
  },
  {
   "cell_type": "markdown",
   "metadata": {},
   "source": [
    "**PEP 8**: Las propiedades se definen de la misma forma que las variables."
   ]
  },
  {
   "cell_type": "markdown",
   "metadata": {},
   "source": [
    "##### Métodos"
   ]
  },
  {
   "cell_type": "markdown",
   "metadata": {},
   "source": [
    "Los métodos son funciones, solo que técnicamente se denominan métodos, y representan acciones propias que puede realizar el objeto."
   ]
  },
  {
   "cell_type": "code",
   "execution_count": 3,
   "metadata": {},
   "outputs": [],
   "source": [
    "class Persona(): \n",
    "    nombre = \"\" \n",
    "    apellido = \"\" \n",
    "    altura = \"\"\n",
    "    peso = \"\"\n",
    "    \n",
    "    def obtener_nombre(self):\n",
    "        return f\"{self.nombre} {self.apellido}\""
   ]
  },
  {
   "cell_type": "markdown",
   "metadata": {},
   "source": [
    "**Nota:** Notar que el primer parámetro de un método, siempre debe ser self."
   ]
  },
  {
   "cell_type": "markdown",
   "metadata": {},
   "source": [
    "##### Objeto"
   ]
  },
  {
   "cell_type": "markdown",
   "metadata": {},
   "source": [
    "Las clases por sí mismas, no son más que modelos que nos servirán para crear objetos en concreto. Podemos decir que una clase, es el razonamiento abstracto de un objeto, mientras que el objeto, es su materialización. A la acción de crear objetos, se la denomina **instanciar** una clase y dicha instancia, consiste en asignar la clase, como valor a una variable"
   ]
  },
  {
   "cell_type": "code",
   "execution_count": 4,
   "metadata": {},
   "outputs": [],
   "source": [
    "class Persona(): \n",
    "    nombre = \"\" \n",
    "    apellido = \"\" \n",
    "    altura = \"\"\n",
    "    peso = \"\"\n",
    "    \n",
    "    def obtener_nombre_completo(self):\n",
    "        return f\"{self.nombre} {self.apellido}\""
   ]
  },
  {
   "cell_type": "code",
   "execution_count": 5,
   "metadata": {},
   "outputs": [],
   "source": [
    "persona = Persona()"
   ]
  },
  {
   "cell_type": "code",
   "execution_count": 6,
   "metadata": {},
   "outputs": [],
   "source": [
    "persona.nombre = \"Pedro\"\n",
    "persona.apellido = \"Perez\""
   ]
  },
  {
   "cell_type": "code",
   "execution_count": 7,
   "metadata": {},
   "outputs": [
    {
     "data": {
      "text/plain": [
       "'Pedro Perez'"
      ]
     },
     "execution_count": 7,
     "metadata": {},
     "output_type": "execute_result"
    }
   ],
   "source": [
    "persona.obtener_nombre_completo()"
   ]
  },
  {
   "cell_type": "markdown",
   "metadata": {},
   "source": [
    "##### Herencia: característica principal de la POO"
   ]
  },
  {
   "cell_type": "markdown",
   "metadata": {},
   "source": [
    "Algunos objetos comparten las mismas propiedades y métodos que otro objeto, y además agregan nuevas propiedades y métodos. A esto se lo denomina herencia: una clase que hereda de otra. Vale aclarar, que en Python, cuando una clase no hereda de ninguna otra, debe hacerse heredar de object, que es la clase principal de Python, que define un objeto."
   ]
  },
  {
   "cell_type": "code",
   "execution_count": 8,
   "metadata": {},
   "outputs": [],
   "source": [
    "class Animal(): \n",
    "    patas = \"\"\n",
    "    habitat = \"\"\n",
    "    onomatopeya = \"\"\n",
    "    \n",
    "\n",
    "class Perro(Animal):\n",
    "    patas = 4\n",
    "    onomatopeya = \"guau\"\n"
   ]
  },
  {
   "cell_type": "code",
   "execution_count": 9,
   "metadata": {},
   "outputs": [
    {
     "data": {
      "text/plain": [
       "4"
      ]
     },
     "execution_count": 9,
     "metadata": {},
     "output_type": "execute_result"
    }
   ],
   "source": [
    "perro = Perro()\n",
    "perro.patas"
   ]
  },
  {
   "cell_type": "code",
   "execution_count": 10,
   "metadata": {},
   "outputs": [
    {
     "data": {
      "text/plain": [
       "'guau'"
      ]
     },
     "execution_count": 10,
     "metadata": {},
     "output_type": "execute_result"
    }
   ],
   "source": [
    "perro.onomatopeya"
   ]
  },
  {
   "cell_type": "markdown",
   "metadata": {},
   "source": [
    "##### Accediendo a los métodos y propiedades de un objeto"
   ]
  },
  {
   "cell_type": "markdown",
   "metadata": {},
   "source": [
    "Una vez creado un objeto, es decir, una vez hecha la instancia de clase, es posible acceder a su métodos y propiedades. Para ello, Python utiliza una sintaxis muy simple: el nombre del objeto, seguido de punto y la propiedad o método al cuál se desea acceder"
   ]
  },
  {
   "cell_type": "code",
   "execution_count": 11,
   "metadata": {},
   "outputs": [
    {
     "data": {
      "text/plain": [
       "'guau'"
      ]
     },
     "execution_count": 11,
     "metadata": {},
     "output_type": "execute_result"
    }
   ],
   "source": [
    "perro.onomatopeya"
   ]
  },
  {
   "cell_type": "code",
   "execution_count": 12,
   "metadata": {},
   "outputs": [
    {
     "data": {
      "text/plain": [
       "'Pedro Perez'"
      ]
     },
     "execution_count": 12,
     "metadata": {},
     "output_type": "execute_result"
    }
   ],
   "source": [
    "persona.obtener_nombre_completo()"
   ]
  },
  {
   "cell_type": "markdown",
   "metadata": {},
   "source": [
    "## Metodo \\_\\_init\\_\\_()"
   ]
  },
  {
   "cell_type": "markdown",
   "metadata": {},
   "source": [
    "El método **\\_\\_init\\_\\_** es un método especial de una clase en Python. El objetivo fundamental del método \\_\\_init\\_\\_ es inicializar los atributos del objeto que creamos.\n",
    "\n",
    "Las ventajas de implementar el método \\_\\_init\\_\\_:\n",
    "\n",
    "El método \\_\\_init\\_\\_ es el primer método que se ejecuta cuando se crea un objeto.\n",
    "El método \\_\\_init\\_\\_ se llama automáticamente. Es decir es imposible de olvidarse de llamarlo ya que se llamará automáticamente."
   ]
  },
  {
   "cell_type": "code",
   "execution_count": 13,
   "metadata": {},
   "outputs": [],
   "source": [
    "class Persona(): \n",
    "    altura = \"\"\n",
    "    peso = \"\"\n",
    "    \n",
    "    def __init__(self, nombre, apellido):\n",
    "        self.nombre = nombre\n",
    "        self.apellido = apellido\n",
    "    \n",
    "    def obtener_nombre_completo(self):\n",
    "        return f\"{self.nombre} {self.apellido}\""
   ]
  },
  {
   "cell_type": "code",
   "execution_count": 14,
   "metadata": {},
   "outputs": [
    {
     "ename": "TypeError",
     "evalue": "__init__() missing 2 required positional arguments: 'nombre' and 'apellido'",
     "output_type": "error",
     "traceback": [
      "\u001b[0;31m---------------------------------------------------------------------------\u001b[0m",
      "\u001b[0;31mTypeError\u001b[0m                                 Traceback (most recent call last)",
      "\u001b[0;32m<ipython-input-14-87190b07a573>\u001b[0m in \u001b[0;36m<module>\u001b[0;34m\u001b[0m\n\u001b[0;32m----> 1\u001b[0;31m \u001b[0mpersona\u001b[0m \u001b[0;34m=\u001b[0m \u001b[0mPersona\u001b[0m\u001b[0;34m(\u001b[0m\u001b[0;34m)\u001b[0m \u001b[0;31m# esto ahora falla\u001b[0m\u001b[0;34m\u001b[0m\u001b[0;34m\u001b[0m\u001b[0m\n\u001b[0m",
      "\u001b[0;31mTypeError\u001b[0m: __init__() missing 2 required positional arguments: 'nombre' and 'apellido'"
     ]
    }
   ],
   "source": [
    "persona = Persona() # esto ahora falla"
   ]
  },
  {
   "cell_type": "markdown",
   "metadata": {},
   "source": [
    "Otras características del método \\_\\_init\\_\\_ son:\n",
    "\n",
    "* Se ejecuta inmediatamente luego de crear un objeto.\n",
    "* El método \\_\\_init\\_\\_ no puede retornar dato.\n",
    "* El método \\_\\_init\\_\\_ puede recibir parámetros que se utilizan normalmente para inicializar atributos.\n",
    "* El método \\_\\_init\\_\\_ es un método opcional, de todos modos es muy común declararlo.\n"
   ]
  },
  {
   "cell_type": "code",
   "execution_count": 15,
   "metadata": {},
   "outputs": [],
   "source": [
    "persona = Persona(\"Pedro\", \"Perez\")"
   ]
  },
  {
   "cell_type": "code",
   "execution_count": 16,
   "metadata": {},
   "outputs": [
    {
     "data": {
      "text/plain": [
       "'Pedro Perez'"
      ]
     },
     "execution_count": 16,
     "metadata": {},
     "output_type": "execute_result"
    }
   ],
   "source": [
    "persona.obtener_nombre_completo()"
   ]
  },
  {
   "cell_type": "markdown",
   "metadata": {},
   "source": [
    "#### Problema 1:"
   ]
  },
  {
   "cell_type": "markdown",
   "metadata": {},
   "source": [
    "\n",
    "Confeccionar una clase que represente un empleado.\n",
    "\n",
    "* Debe tener los atributos su nombre y su sueldo.\n",
    "* En el método \\_\\_init\\_\\_ cargar los atributos (nombre, apellido y sueldo)\n",
    "* En otro método imprimir sus datos (Pista: similiar a la clase Persona y el metodo obtener_nombre_completo pero debe incluir cuanto cobra)\n",
    "* Por último uno que imprima un mensaje si debe pagar impuestos (si el sueldo supera a 3000)"
   ]
  },
  {
   "cell_type": "markdown",
   "metadata": {},
   "source": [
    "#### Problema 2:"
   ]
  },
  {
   "cell_type": "markdown",
   "metadata": {},
   "source": [
    "\n",
    "Confeccionar una clase que represente un Usuario de una pagina web.\n",
    "\n",
    "* Debe tener los atributos su nombre_de_usuario, email y password.\n",
    "* En el método \\_\\_init\\_\\_ cargar los atributos (nombre_de_usuario y su password)\n",
    "* En otro método se debe poder configurar su email\n",
    "* Por ultimo un metodo que nos permita verificar el password del usuario"
   ]
  }
 ],
 "metadata": {
  "kernelspec": {
   "display_name": "Python 3",
   "language": "python",
   "name": "python3"
  },
  "language_info": {
   "codemirror_mode": {
    "name": "ipython",
    "version": 3
   },
   "file_extension": ".py",
   "mimetype": "text/x-python",
   "name": "python",
   "nbconvert_exporter": "python",
   "pygments_lexer": "ipython3",
   "version": "3.7.3"
  }
 },
 "nbformat": 4,
 "nbformat_minor": 2
}
